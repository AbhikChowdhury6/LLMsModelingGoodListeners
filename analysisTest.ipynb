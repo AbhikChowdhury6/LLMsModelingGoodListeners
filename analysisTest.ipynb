{
 "cells": [
  {
   "cell_type": "code",
   "execution_count": 1,
   "metadata": {},
   "outputs": [
    {
     "name": "stdout",
     "output_type": "stream",
     "text": [
      "loaded 4815 rows\n"
     ]
    }
   ],
   "source": [
    "import pickle\n",
    "\n",
    "modelName = \"Llama-2-7b-chat-hf\"\n",
    "\n",
    "fileName = modelName + \"generatedMaxNewTokens10.pickle\"\n",
    "\n",
    "\n",
    "try:\n",
    "    with open(fileName, 'rb') as file:\n",
    "        generatedOutputs = pickle.load(file)\n",
    "        print(\"loaded \" + str(len(generatedOutputs)) + \" rows\")\n",
    "except FileNotFoundError:\n",
    "    print(\"File not found making new object\")\n",
    "    generatedOutputs = {}"
   ]
  },
  {
   "cell_type": "code",
   "execution_count": 2,
   "metadata": {},
   "outputs": [],
   "source": [
    "from datasets import load_dataset\n",
    "dataset = load_dataset(\"tau/commonsense_qa\")"
   ]
  },
  {
   "cell_type": "code",
   "execution_count": 4,
   "metadata": {},
   "outputs": [],
   "source": [
    "#make a dictorinary of only the prompts that failed to finish\n",
    "invalidGenerations = []\n",
    "\n",
    "for q in dataset[\"train\"]:\n",
    "    if q[\"question\"] in generatedOutputs:\n",
    "        if generatedOutputs[q[\"question\"]][\"parsed\"] == \"None\":\n",
    "            invalidGenerations.append(generatedOutputs[q[\"question\"]])"
   ]
  },
  {
   "cell_type": "code",
   "execution_count": 5,
   "metadata": {},
   "outputs": [
    {
     "name": "stdout",
     "output_type": "stream",
     "text": [
      "37\n"
     ]
    }
   ],
   "source": [
    "print(len(invalidGenerations))"
   ]
  },
  {
   "cell_type": "code",
   "execution_count": 13,
   "metadata": {},
   "outputs": [
    {
     "name": "stdout",
     "output_type": "stream",
     "text": [
      "Bob's feet hurt from running barefoot on the hot pavement.  I lost his shoes, didn't know where they landed, and had to run from the corner store to his home.  About where did he run? (A) a bed of nails (B) town (C) attractive consistent look (D) city block (E) ground.\n",
      "\"  I hope you can help me find Bob'\"\n",
      "\n",
      "Where are there more telephone booths? (A) gas stations (B) city (C) london (D) train station (E) airport.\n",
      "'\\nWhere are there more telephone booths'\n",
      "\n",
      "A balloon or two is a staple at a what? (A) birthday party (B) child's hand (C) grocery store (D) sky (E) up in the.\n",
      "'\\nA balloon or two is a st'\n",
      "\n",
      "James didn't know what to do.  He felt that he'd ruin his relationship with Jen if he took it further, and he didn't want to do that.  At the same time,  He fight that pushing farther might do what to something good? (A) found (B) destroy (C) construct (D) fix (E) produce.\n",
      "'  He was torn between his desire to be with'\n",
      "\n",
      "What is not a safe way to transport jewelry on vacation? (A) suitcase (B) department store (C) safe deposit box (D) these twos are not safe way to transport jewellery (E) lady's boudoir.\n",
      "'\\n\\nAnswer:\\n\\nThe correct answer is'\n",
      "\n",
      "Many containers full of goods are unloaded where after their long sea journey (A) port (B) cargo ship (C) refrigerator (D) food (E) lorry.\n",
      "'\\n10. Which of the following is NOT'\n",
      "\n",
      "Where can you find a place to eat and places to buy items of many different kinds? (A) city (B) downtown (C) own house (D) bar (E) shopping center.\n",
      "'\\n10. What is the best way to'\n",
      "\n",
      "What would be considered a success when attempting procreation? (A) celebrate (B) have party (C) hear crowd go mad (D) create success (E) reproduce.\n",
      "'\\n\\nAnswer:\\n\\nThe correct answer is'\n",
      "\n",
      "Where can you find the tallest skyscraper in the mid-western U.S.? (A) high population (B) manhattan (C) new york city (D) chicago (E) large city.\n",
      "'\\nWhich of the following cities is home to'\n",
      "\n",
      "The teacher explained it used a cathode ray tube like other screens, but this what measured things? (A) vacuum tube (B) television (C) computer (D) cathode ray (E) oscilloscope.\n",
      "'\\n\\nAnswer:\\n\\nThe correct answer is'\n",
      "\n",
      "Where does the red cross respond to a storm? (A) summer (B) tropics (C) blue shield (D) weather report (E) america.\n",
      "'\\nThe Red Cross responds to storms and'\n",
      "\n",
      "Where can you find the U.S. federal government? (A) washington d.c (B) canada (C) country (D) capitol building (E) democracy.\n",
      "'\\nWhere can you find the U.S.'\n",
      "\n",
      "He watched the team play every Sunday, but this was the first time the fan would enter a what to see a snap live? (A) football stadium (B) hot room (C) hockey game (D) living room (E) basketball court.\n",
      "'\\nThe fan walked into the stadium and was'\n",
      "\n",
      "Denny couldn't find his hairbrush.  He looked everywhere for it.  Under and over, up and down, it was not where he thought it would be.  So he closed the door behind him and continued his systematic search.  Where might Denny have looked first? (A) house (B) kitchen (C) car (D) drugstore (E) bedroom.\n",
      "''\n",
      "\n",
      "Where would you go if you wanted to buy clothes as well as other things? (A) house (B) closet (C) beach (D) clothing store (E) mall.\n",
      "'\\n10. If you wanted to buy something'\n",
      "\n",
      "Where is north carolina located? (A) south (B) north of south carolina (C) south of virginia (D) united states (E) carolina.\n",
      "'\\nNorth Carolina is located in the southe'\n",
      "\n",
      "James thought that he was original, but really his story was exactly like many others.   Sarah didn't want to hurt his feelings so she didn't say anything.  What might she have done while listening? (A) remake (B) copy (C) simile (D) derivative (E) reproduction.\n",
      "\"  Sarah didn't want to hurt James'\"\n",
      "\n",
      "When you have fun by doing many things that are planned, you are? (A) do like (B) happy (C) spontaneous (D) work less (E) do enjoy.\n",
      "'\\n10. Which of the following is the'\n",
      "\n",
      "What could guns do which could be illegal? (A) distract police from a r3al crime. (B) take life (C) misfire (D) arm robbers (E) break.\n",
      "'\\nWhat could guns do which could be illegal?'\n",
      "\n",
      "What could happen if something surprising happens while you are driving? (A) faint (B) accidents (C) frightened (D) laughter (E) funny.\n",
      "'\\n10. What should you do if you'\n",
      "\n",
      "Fighting inflation means being aware of many things, such as what with loans? (A) not noticeable (B) loss of money (C) economic instability (D) rising interest rates (E) problems.\n",
      "'\\nInflation is a rise in the average price'\n",
      "\n",
      "What eastern U.S. local government has plenty of crab fishing? (A) north carolina (B) chesapeake bay (C) crab pots (D) sandy beach (E) eastern coast.\n",
      "'\\nWhich of the following is a type of'\n",
      "\n",
      "The buildings were designed to hold a lot of people, where should it be built? (A) small (B) in a hole (C) large city (D) university (E) town.\n",
      "'\\n10. What is the purpose of the'\n",
      "\n",
      "How might you feel when meeting a friend who company you greatly enjoy? (A) talk (B) relaxation (C) excitement (D) fun (E) joy.\n",
      "'\\n10. What is the best way to'\n",
      "\n",
      "A student should not do what while their instructor is lecturing? (A) play piano (B) talk (C) talk on their phone (D) study engineering (E) read book.\n",
      "'\\nAnswer: B. talk.\\nExplan'\n",
      "\n",
      "There are many natural landmarks that need to be protected at what locations? (A) countryside (B) city (C) national park (D) special place (E) forest.\n",
      "'\\n10. What is the main reason for'\n",
      "\n",
      "When going to the market, you will be happy when you? (A) buy things (B) arriving at desination (C) impulse buying (D) carrying bags (E) push a cart.\n",
      "'\\n10. Which of the following is NOT'\n",
      "\n",
      "Where is likely to have an open air market? (A) city (B) village (C) field (D) rural area (E) buy fresh vegetables.\n",
      "'\\n10. Which of the following is likely'\n",
      "\n",
      "You need to take your morning pill. Where in your house would you look for it? (A) medicine cabinet (B) storage (C) medicine bottle (D) old ladies purse (E) pharmacy.\n",
      "'\\n\\nPlease choose your answer from the options above'\n",
      "\n",
      "When someone is deeply involved while they watch a film, the film must be very? (A) ike director (B) have fun (C) see what happens (D) interesting (E) pass time.\n",
      "'\\n11. What is the best way to'\n",
      "\n",
      "The demand from people was high, how can chaos be avoided? (A) bank money (B) call police (C) wait in line (D) believe in god (E) suffer pain.\n",
      "'\\n\\nAnswer:\\n\\nThe correct answer is'\n",
      "\n",
      "What would you see if there were different types of flowers near you? (A) many colors (B) smell good (C) cover fields (D) smell bad (E) continue to grow.\n",
      "'\\n10. What would you do if you'\n",
      "\n",
      "What feeling does see favorite show eliminate? (A) bored (B) happiness (C) entertained (D) entertains (E) buy tickets.\n",
      "'\\n10. Which of the following is a'\n",
      "\n",
      "How do the bosses share knowledge in person at work? (A) meeting (B) dinner (C) encyclopedia (D) class (E) university.\n",
      "'\\n[A] meeting\\nThe bosses'\n",
      "\n",
      "Where do you go to see live entertainment? (A) park (B) friend's house (C) movie (D) theatre (E) show.\n",
      "'\\n10. What do you usually do on'\n",
      "\n",
      "WHat does a teacher do for a student over the semester? (A) prepare dinner (B) include examples (C) help them (D) work in school (E) evaluate progress.\n",
      "'\\n[A] prepare dinner\\n[B]'\n",
      "\n",
      "What is a tool for fighting inflation? (A) problems (B) anxiety (C) deflation (D) not noticeable (E) economic instability.\n",
      "'\\nInflation is a sustained increase in the'\n",
      "\n"
     ]
    }
   ],
   "source": [
    "for g in invalidGenerations:\n",
    "    print(g[\"prompt\"])\n",
    "    print(repr(g[\"genText\"]) + \"\\n\")"
   ]
  },
  {
   "cell_type": "code",
   "execution_count": 16,
   "metadata": {},
   "outputs": [
    {
     "name": "stdout",
     "output_type": "stream",
     "text": [
      "\"  I hope you can help me find Bob'\"\n",
      "'\\nA balloon or two is a st'\n",
      "'\\n\\nAnswer:\\n\\nThe correct answer is'\n",
      "'\\n\\nAnswer:\\n\\nThe correct answer is'\n",
      "'\\n\\nAnswer:\\n\\nThe correct answer is'\n",
      "'\\nThe Red Cross responds to storms and'\n",
      "'\\nNorth Carolina is located in the southe'\n",
      "'\\nAnswer: B. talk.\\nExplan'\n",
      "'\\n\\nAnswer:\\n\\nThe correct answer is'\n",
      "'\\n[A] meeting\\nThe bosses'\n",
      "'\\n[A] prepare dinner\\n[B]'\n"
     ]
    }
   ],
   "source": [
    "import re\n",
    "\n",
    "potentialAnswerPattern = r'[A-E]'\n",
    "\n",
    "\n",
    "for ig in invalidGenerations:\n",
    "    pms = re.findall(potentialAnswerPattern,ig[\"genText\"])\n",
    "    if len(pms) > 0:\n",
    "        print(repr(ig[\"genText\"]))\n",
    "\n"
   ]
  },
  {
   "cell_type": "code",
   "execution_count": null,
   "metadata": {},
   "outputs": [],
   "source": []
  },
  {
   "cell_type": "code",
   "execution_count": null,
   "metadata": {},
   "outputs": [],
   "source": []
  },
  {
   "cell_type": "code",
   "execution_count": null,
   "metadata": {},
   "outputs": [],
   "source": []
  },
  {
   "cell_type": "code",
   "execution_count": null,
   "metadata": {},
   "outputs": [],
   "source": []
  }
 ],
 "metadata": {
  "kernelspec": {
   "display_name": "opProj",
   "language": "python",
   "name": "python3"
  },
  "language_info": {
   "codemirror_mode": {
    "name": "ipython",
    "version": 3
   },
   "file_extension": ".py",
   "mimetype": "text/x-python",
   "name": "python",
   "nbconvert_exporter": "python",
   "pygments_lexer": "ipython3",
   "version": "3.8.19"
  }
 },
 "nbformat": 4,
 "nbformat_minor": 2
}
