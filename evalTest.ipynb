{
 "cells": [
  {
   "cell_type": "code",
   "execution_count": null,
   "metadata": {},
   "outputs": [],
   "source": [
    "#import the commonsense QA dataset\n",
    "\n",
    "#seperate out the prompts\n",
    "#seperate out the answers\n",
    "\n",
    "#load the model and make the pipleine\n",
    "\n",
    "#make model ouptuts list\n",
    "#if there's a pickle file with already evaluated prompts load it into the model outputs list\n",
    "\n",
    "#iterate over prompts from indexes after the loaded ones\n",
    "    #run inference on the model\n",
    "    #save the output to a pickle file with the name of the model\n",
    "\n",
    "\n",
    "\n",
    "\n"
   ]
  }
 ],
 "metadata": {
  "kernelspec": {
   "display_name": "opProj",
   "language": "python",
   "name": "python3"
  },
  "language_info": {
   "name": "python",
   "version": "3.8.19"
  }
 },
 "nbformat": 4,
 "nbformat_minor": 2
}
